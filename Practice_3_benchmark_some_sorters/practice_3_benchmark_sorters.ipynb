{
 "cells": [
  {
   "cell_type": "markdown",
   "metadata": {},
   "source": [
    "# benchmark spie sorter\n",
    "\n",
    "\n",
    "MEArec is simulation tools....\n",
    "\n",
    "spikeinterface have a comparison modules ...\n",
    "\n",
    "\n",
    "Given the \"templates_Neuronexus-32_100.h5\" file we will generate some recording file.\n",
    "\n"
   ]
  },
  {
   "cell_type": "code",
   "execution_count": 3,
   "metadata": {},
   "outputs": [],
   "source": [
    "%matplotlib widget"
   ]
  },
  {
   "cell_type": "code",
   "execution_count": 10,
   "metadata": {},
   "outputs": [],
   "source": [
    "from pathlib import Path\n",
    "import os\n",
    "\n",
    "import numpy as np\n",
    "import matplotlib.pyplot as plt\n",
    "\n",
    "import MEArec as mr\n",
    "\n",
    "import neo\n",
    "import quantities as pq\n",
    "\n",
    "import spikeinterface.full as si"
   ]
  },
  {
   "cell_type": "markdown",
   "metadata": {},
   "source": [
    "## step 1 : generate recording\n",
    "\n",
    "Here a small code that generate a recording given an already generated \"templates\" file.\n",
    "\n"
   ]
  },
  {
   "cell_type": "code",
   "execution_count": 11,
   "metadata": {},
   "outputs": [],
   "source": [
    "basedir = Path('/home/samuel/Bureau/')\n",
    "template_filename = basedir / 'templates_Neuronexus-32_100.h5'\n",
    "\n",
    "\n",
    "duration = 30*60\n",
    "n_cell = 10\n",
    "probe = 'Neuronexus-32'\n",
    "recording_filename = basedir / f'recordings_collision_{n_cell}cells_{probe}_{duration:0.0f}s.h5'"
   ]
  },
  {
   "cell_type": "code",
   "execution_count": 12,
   "metadata": {},
   "outputs": [],
   "source": [
    "# some parameters\n",
    "fs = 30000.\n",
    "spikerate = 5. # Hz\n"
   ]
  },
  {
   "cell_type": "code",
   "execution_count": 13,
   "metadata": {},
   "outputs": [],
   "source": [
    "# generate poisson spiketrains\n",
    "spiketimes = []\n",
    "for i in range(n_cell):\n",
    "    n = int(spikerate * duration)\n",
    "    stimes = np.random.rand(n) * duration\n",
    "    stimes = np.sort(stimes)\n",
    "    spiketimes.append(stimes)\n",
    "\n",
    "# make neo spiketrains\n",
    "spiketrains = []\n",
    "for i in range(n_cell):\n",
    "    spiketrain = neo.SpikeTrain(spiketimes[i], units='s', t_start=0*pq.s, t_stop=duration*pq.s)\n",
    "    spiketrain.annotate(cell_type='E')\n",
    "    spiketrains.append(spiketrain)"
   ]
  },
  {
   "cell_type": "code",
   "execution_count": 14,
   "metadata": {},
   "outputs": [
    {
     "name": "stdout",
     "output_type": "stream",
     "text": [
      "Noise Level  5\n",
      "Templates selection seed:  5657\n",
      "Selecting cells\n",
      "Padding template edges\n",
      "Elapsed pad time: 0.19822382926940918\n",
      "Elapsed resample time: 0.05106306076049805\n",
      "Creating time jittering\n",
      "Elapsed jitter time: 0.3166685104370117\n",
      "Computing spike train SNR\n",
      "Adding spiketrain annotations\n",
      "Convolution seed:  1303\n",
      "Electrode modulaton\n",
      "Adding noise\n",
      "Noise seed:  8435\n",
      "Elapsed time:  78.15281399000014\n"
     ]
    }
   ],
   "source": [
    "# generate signals from spiketrain\n",
    "spgen = mr.SpikeTrainGenerator(spiketrains=spiketrains)\n",
    "\n",
    "rec_params = mr.get_default_recordings_params()\n",
    "rec_params['recordings']['fs'] = fs\n",
    "rec_params['recordings']['sync_rate'] = None\n",
    "rec_params['recordings']['sync_jitter'] = 5\n",
    "rec_params['recordings']['noise_level'] = 5\n",
    "rec_params['recordings']['filter'] = False\n",
    "rec_params['recordings']['chunk_duration'] = 10.\n",
    "rec_params['spiketrains']['duration'] = duration\n",
    "rec_params['spiketrains']['n_exc'] = n_cell\n",
    "rec_params['spiketrains']['n_inh'] = 0\n",
    "rec_params['templates']['n_overlap_pairs'] = None\n",
    "rec_params['templates']['min_dist'] = 0\n",
    "\n",
    "recgen = mr.gen_recordings(params=rec_params, spgen=spgen, \n",
    "            templates=template_filename, verbose=True,\n",
    "            n_jobs=1, tmp_mode='memmap')\n",
    "\n"
   ]
  },
  {
   "cell_type": "code",
   "execution_count": 15,
   "metadata": {},
   "outputs": [],
   "source": [
    "mr.save_recording_generator(recgen, filename=recording_filename)"
   ]
  },
  {
   "cell_type": "markdown",
   "metadata": {},
   "source": [
    "## step 2 : open and plot signals and spikes of ground truth"
   ]
  },
  {
   "cell_type": "code",
   "execution_count": null,
   "metadata": {},
   "outputs": [],
   "source": []
  },
  {
   "cell_type": "markdown",
   "metadata": {},
   "source": [
    "### step 3 : run several sorters on this"
   ]
  },
  {
   "cell_type": "code",
   "execution_count": null,
   "metadata": {},
   "outputs": [],
   "source": []
  },
  {
   "cell_type": "markdown",
   "metadata": {},
   "source": [
    "### step 4 : run comparison and plot agreement matrix"
   ]
  },
  {
   "cell_type": "code",
   "execution_count": null,
   "metadata": {},
   "outputs": [],
   "source": []
  },
  {
   "cell_type": "markdown",
   "metadata": {},
   "source": [
    "### step 5 use study object and plot performences"
   ]
  },
  {
   "cell_type": "code",
   "execution_count": null,
   "metadata": {},
   "outputs": [],
   "source": []
  }
 ],
 "metadata": {
  "kernelspec": {
   "display_name": "Python 3",
   "language": "python",
   "name": "python3"
  },
  "language_info": {
   "codemirror_mode": {
    "name": "ipython",
    "version": 3
   },
   "file_extension": ".py",
   "mimetype": "text/x-python",
   "name": "python",
   "nbconvert_exporter": "python",
   "pygments_lexer": "ipython3",
   "version": "3.8.10"
  }
 },
 "nbformat": 4,
 "nbformat_minor": 4
}
